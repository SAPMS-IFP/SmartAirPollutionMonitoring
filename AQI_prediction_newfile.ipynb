{
 "cells": [
  {
   "cell_type": "code",
   "execution_count": 41,
   "metadata": {},
   "outputs": [],
   "source": [
    "from firebase import firebase\n",
    "from pandas import concat,DataFrame\n",
    "import numpy as np \n",
    "import pandas as pd\n",
    "from sklearn import linear_model\n",
    "from sklearn.metrics import mean_squared_error\n",
    "from sklearn.ensemble import RandomForestRegressor\n",
    "import pickle\n",
    "from sklearn.multioutput import MultiOutputRegressor\n",
    "import webbrowser\n",
    "from math import sqrt"
   ]
  },
  {
   "cell_type": "code",
   "execution_count": 42,
   "metadata": {},
   "outputs": [
    {
     "data": {
      "text/html": [
       "<div>\n",
       "<style scoped>\n",
       "    .dataframe tbody tr th:only-of-type {\n",
       "        vertical-align: middle;\n",
       "    }\n",
       "\n",
       "    .dataframe tbody tr th {\n",
       "        vertical-align: top;\n",
       "    }\n",
       "\n",
       "    .dataframe thead th {\n",
       "        text-align: right;\n",
       "    }\n",
       "</style>\n",
       "<table border=\"1\" class=\"dataframe\">\n",
       "  <thead>\n",
       "    <tr style=\"text-align: right;\">\n",
       "      <th></th>\n",
       "      <th>Datetime</th>\n",
       "      <th>PM2.5</th>\n",
       "      <th>PM10</th>\n",
       "      <th>NO2</th>\n",
       "      <th>NH3</th>\n",
       "      <th>CO</th>\n",
       "      <th>SO2</th>\n",
       "      <th>AQI</th>\n",
       "    </tr>\n",
       "  </thead>\n",
       "  <tbody>\n",
       "    <tr>\n",
       "      <th>187751</th>\n",
       "      <td>2015-01-01 01:00:00</td>\n",
       "      <td>428.3</td>\n",
       "      <td>36.45</td>\n",
       "      <td>47.97</td>\n",
       "      <td>6.36</td>\n",
       "      <td>0.92</td>\n",
       "      <td>7.19</td>\n",
       "      <td>333.0</td>\n",
       "    </tr>\n",
       "    <tr>\n",
       "      <th>187752</th>\n",
       "      <td>2015-01-01 02:00:00</td>\n",
       "      <td>428.3</td>\n",
       "      <td>36.45</td>\n",
       "      <td>12.31</td>\n",
       "      <td>4.93</td>\n",
       "      <td>0.77</td>\n",
       "      <td>8.03</td>\n",
       "      <td>333.0</td>\n",
       "    </tr>\n",
       "    <tr>\n",
       "      <th>187753</th>\n",
       "      <td>2015-01-01 03:00:00</td>\n",
       "      <td>428.3</td>\n",
       "      <td>36.45</td>\n",
       "      <td>13.72</td>\n",
       "      <td>3.92</td>\n",
       "      <td>1.06</td>\n",
       "      <td>10.53</td>\n",
       "      <td>333.0</td>\n",
       "    </tr>\n",
       "    <tr>\n",
       "      <th>187754</th>\n",
       "      <td>2015-01-01 04:00:00</td>\n",
       "      <td>428.3</td>\n",
       "      <td>36.45</td>\n",
       "      <td>14.45</td>\n",
       "      <td>4.54</td>\n",
       "      <td>1.54</td>\n",
       "      <td>10.04</td>\n",
       "      <td>333.0</td>\n",
       "    </tr>\n",
       "    <tr>\n",
       "      <th>187755</th>\n",
       "      <td>2015-01-01 05:00:00</td>\n",
       "      <td>428.3</td>\n",
       "      <td>36.45</td>\n",
       "      <td>20.16</td>\n",
       "      <td>4.85</td>\n",
       "      <td>1.03</td>\n",
       "      <td>9.19</td>\n",
       "      <td>333.0</td>\n",
       "    </tr>\n",
       "  </tbody>\n",
       "</table>\n",
       "</div>"
      ],
      "text/plain": [
       "                   Datetime  PM2.5   PM10    NO2   NH3    CO    SO2    AQI\n",
       "187751  2015-01-01 01:00:00  428.3  36.45  47.97  6.36  0.92   7.19  333.0\n",
       "187752  2015-01-01 02:00:00  428.3  36.45  12.31  4.93  0.77   8.03  333.0\n",
       "187753  2015-01-01 03:00:00  428.3  36.45  13.72  3.92  1.06  10.53  333.0\n",
       "187754  2015-01-01 04:00:00  428.3  36.45  14.45  4.54  1.54  10.04  333.0\n",
       "187755  2015-01-01 05:00:00  428.3  36.45  20.16  4.85  1.03   9.19  333.0"
      ]
     },
     "execution_count": 42,
     "metadata": {},
     "output_type": "execute_result"
    }
   ],
   "source": [
    "data = pd.read_csv(\"city_hour.csv\") \n",
    "data=data[data['City']=='Chennai']\n",
    "data.drop(columns=['City','NOx','NO','O3','AQI_Bucket','Benzene','Toluene','Xylene'],axis=1,inplace=True)\n",
    "data.interpolate(limit_direction=\"both\",inplace=True)\n",
    "data.head(5)"
   ]
  },
  {
   "cell_type": "code",
   "execution_count": 43,
   "metadata": {},
   "outputs": [],
   "source": [
    "firebase = firebase.FirebaseApplication(\"https://smartairpollutionmonitoring-default-rtdb.firebaseio.com/\")\n",
    "result = firebase.get('/ifpdata',None)\n",
    "df = pd.DataFrame.from_dict({(i): result[i] \n",
    "                           for i in result.keys()},\n",
    "                       orient='index')"
   ]
  },
  {
   "cell_type": "code",
   "execution_count": 44,
   "metadata": {},
   "outputs": [
    {
     "data": {
      "text/html": [
       "<div>\n",
       "<style scoped>\n",
       "    .dataframe tbody tr th:only-of-type {\n",
       "        vertical-align: middle;\n",
       "    }\n",
       "\n",
       "    .dataframe tbody tr th {\n",
       "        vertical-align: top;\n",
       "    }\n",
       "\n",
       "    .dataframe thead th {\n",
       "        text-align: right;\n",
       "    }\n",
       "</style>\n",
       "<table border=\"1\" class=\"dataframe\">\n",
       "  <thead>\n",
       "    <tr style=\"text-align: right;\">\n",
       "      <th></th>\n",
       "      <th>Ammonia</th>\n",
       "      <th>Carmono</th>\n",
       "      <th>Nitrates</th>\n",
       "      <th>Pten</th>\n",
       "      <th>Ptwo</th>\n",
       "      <th>Sulphur</th>\n",
       "      <th>aqi</th>\n",
       "    </tr>\n",
       "  </thead>\n",
       "  <tbody>\n",
       "    <tr>\n",
       "      <th>-MVY6IYfHpwH8rHUpaV5</th>\n",
       "      <td>47.80</td>\n",
       "      <td>2.67</td>\n",
       "      <td>19.12</td>\n",
       "      <td>57.36</td>\n",
       "      <td>43.02</td>\n",
       "      <td>9.44</td>\n",
       "      <td>41.84</td>\n",
       "    </tr>\n",
       "    <tr>\n",
       "      <th>-MVY6JF_xVPEuTErK6wL</th>\n",
       "      <td>47.90</td>\n",
       "      <td>2.68</td>\n",
       "      <td>19.16</td>\n",
       "      <td>57.48</td>\n",
       "      <td>43.11</td>\n",
       "      <td>9.47</td>\n",
       "      <td>41.94</td>\n",
       "    </tr>\n",
       "    <tr>\n",
       "      <th>-MVY6K_jlJpF6qF7mB45</th>\n",
       "      <td>48.09</td>\n",
       "      <td>2.68</td>\n",
       "      <td>19.24</td>\n",
       "      <td>57.71</td>\n",
       "      <td>43.28</td>\n",
       "      <td>9.44</td>\n",
       "      <td>42.06</td>\n",
       "    </tr>\n",
       "    <tr>\n",
       "      <th>-MVY6LG3MW-XY-ridS6p</th>\n",
       "      <td>48.19</td>\n",
       "      <td>2.68</td>\n",
       "      <td>19.28</td>\n",
       "      <td>57.83</td>\n",
       "      <td>43.37</td>\n",
       "      <td>9.44</td>\n",
       "      <td>42.13</td>\n",
       "    </tr>\n",
       "    <tr>\n",
       "      <th>-MVY6Luav1BokWzOqUQy</th>\n",
       "      <td>48.29</td>\n",
       "      <td>2.68</td>\n",
       "      <td>19.32</td>\n",
       "      <td>57.95</td>\n",
       "      <td>43.46</td>\n",
       "      <td>9.44</td>\n",
       "      <td>42.20</td>\n",
       "    </tr>\n",
       "  </tbody>\n",
       "</table>\n",
       "</div>"
      ],
      "text/plain": [
       "                      Ammonia  Carmono  Nitrates   Pten   Ptwo  Sulphur    aqi\n",
       "-MVY6IYfHpwH8rHUpaV5    47.80     2.67     19.12  57.36  43.02     9.44  41.84\n",
       "-MVY6JF_xVPEuTErK6wL    47.90     2.68     19.16  57.48  43.11     9.47  41.94\n",
       "-MVY6K_jlJpF6qF7mB45    48.09     2.68     19.24  57.71  43.28     9.44  42.06\n",
       "-MVY6LG3MW-XY-ridS6p    48.19     2.68     19.28  57.83  43.37     9.44  42.13\n",
       "-MVY6Luav1BokWzOqUQy    48.29     2.68     19.32  57.95  43.46     9.44  42.20"
      ]
     },
     "execution_count": 44,
     "metadata": {},
     "output_type": "execute_result"
    }
   ],
   "source": [
    "df.drop(columns=['Hour','Humidity','Temperature'],axis=1,inplace=True)\n",
    "dropnan=True\n",
    "if dropnan:\n",
    "\tdf.dropna(inplace=True)\n",
    "df.interpolate(limit_direction=\"both\",inplace=True)\n",
    "df.head(5)"
   ]
  },
  {
   "cell_type": "code",
   "execution_count": 45,
   "metadata": {},
   "outputs": [],
   "source": [
    "aqi_list=data['AQI'].to_list()\n",
    "aqi_list_test=df['aqi'].to_list()"
   ]
  },
  {
   "cell_type": "code",
   "execution_count": 46,
   "metadata": {},
   "outputs": [],
   "source": [
    "def series_to_supervised(data, n_in, n_out):\n",
    "\tn_vars = 1 if type(data) is list else data.shape[1]\n",
    "\tdata = DataFrame(data)\n",
    "\tcols, names = list(), list()\n",
    "\t# input sequence (t-n, ... t-1)\n",
    "\tfor i in range(n_in, 0, -1):\n",
    "\t\tcols.append(data.shift(i))\n",
    "\t\tnames += [('AQI(t-%d)' % (i)) for j in range(n_vars)]\n",
    "\t# forecast sequence (t, t+1, ... t+n)\n",
    "\tfor i in range(1, n_out):\n",
    "\t\tcols.append(data.shift(-i))\n",
    "\t\tnames += [('AQI(t+%d)' % (i)) for j in range(n_vars)]\n",
    "\t# put it all together\n",
    "\tagg = concat(cols, axis=1)\n",
    "\tagg.columns = names\n",
    "\treturn agg\n",
    "\n",
    "data1= series_to_supervised(aqi_list, 4, 6)\n",
    "#print(data1)\n",
    "data1_test= series_to_supervised(aqi_list_test, 4, 6)\n",
    "#print(data1_test.tail(5))"
   ]
  },
  {
   "cell_type": "code",
   "execution_count": 47,
   "metadata": {},
   "outputs": [],
   "source": [
    "data2 = pd.concat([data.reset_index(drop=True),data1.reset_index(drop=True)], axis=1)\n",
    "#print(data2)\n",
    "data2_test = pd.concat([df.reset_index(drop=True),data1_test.reset_index(drop=True)], axis=1)\n",
    "#print(data2_test)\n",
    "actual_values=aqi_list_test[-1:]\n",
    "#print(actual_values)"
   ]
  },
  {
   "cell_type": "code",
   "execution_count": 48,
   "metadata": {},
   "outputs": [],
   "source": [
    "#Processing data \n",
    "\n",
    "dropnan=True\n",
    "if dropnan:\n",
    "\tdata2.dropna(inplace=True)\n",
    "dropnan=True\n",
    "if dropnan:\n",
    "\tdata2_test.dropna(inplace=True)"
   ]
  },
  {
   "cell_type": "code",
   "execution_count": 49,
   "metadata": {},
   "outputs": [],
   "source": [
    "#Training and the testing set\n",
    "\n",
    "X_train=np.array(data2[['PM2.5','NO2','NH3','CO','SO2','AQI','AQI(t-4)','AQI(t-3)','AQI(t-2)','AQI(t-1)']])\n",
    "y_train=data2[['AQI(t+1)']]\n",
    "\n",
    "X_test=np.array(data2_test[['Ptwo','Nitrates','Ammonia','Carmono','Sulphur','aqi','AQI(t-4)','AQI(t-3)','AQI(t-2)','AQI(t-1)']])\n",
    "y_test=data2_test[['AQI(t+1)']]"
   ]
  },
  {
   "cell_type": "code",
   "execution_count": 50,
   "metadata": {},
   "outputs": [],
   "source": [
    "#Linear regression model\n",
    "\n",
    "regression_model = linear_model.LinearRegression()\n",
    "regression_model.fit(X_train,y_train)\n",
    "\n",
    "#Prediction \n",
    "\n",
    "rows,cols=X_test.shape\n",
    "y_pred=regression_model.predict(X_test)\n",
    "pred=y_pred[rows-1]"
   ]
  },
  {
   "cell_type": "code",
   "execution_count": 51,
   "metadata": {},
   "outputs": [],
   "source": [
    "def linear_reg_predict():\n",
    "    pred=y_pred[rows-1]\n",
    "    accuracy = regression_model.score(X_train,y_train) * 100\n",
    "    rmse = sqrt(mean_squared_error(actual_values,pred))\n",
    "    return actual_values[0],pred[0],accuracy,rmse"
   ]
  },
  {
   "cell_type": "code",
   "execution_count": 52,
   "metadata": {},
   "outputs": [
    {
     "name": "stdout",
     "output_type": "stream",
     "text": [
      "The Actual AQI :  58.16\n",
      "The predicted AQI :  63.19973527705219\n",
      "The accuracy of the prediction:  96.52813913876217\n",
      "RMSE:  5.039735277052195\n"
     ]
    }
   ],
   "source": [
    "actual,predicted,acc,rmse = linear_reg_predict()\n",
    "#Predicted values,Accuracy,and rmse\n",
    "print(\"The Actual AQI : \",actual)\n",
    "print(\"The predicted AQI : \",predicted)\n",
    "print(\"The accuracy of the prediction: \",acc)\n",
    "print(\"RMSE: \",rmse)"
   ]
  },
  {
   "cell_type": "code",
   "execution_count": 53,
   "metadata": {},
   "outputs": [],
   "source": [
    "#RandomForest Regressor\n",
    "\n",
    "rf=MultiOutputRegressor(RandomForestRegressor(n_estimators=10,max_depth=20)).fit(X_train, y_train)\n",
    "y_pred1=rf.predict(X_test)\n",
    "pred1=y_pred1[rows-1]\n",
    "\n",
    "def Random_Forest_predict():\n",
    "    pred1=y_pred1[rows-1]\n",
    "    accuracy = rf.score(X_train,y_train) * 100\n",
    "    rmse = sqrt(mean_squared_error(actual_values,pred))\n",
    "    return actual_values[0],pred[0],accuracy,rmse"
   ]
  },
  {
   "cell_type": "code",
   "execution_count": 54,
   "metadata": {},
   "outputs": [
    {
     "name": "stdout",
     "output_type": "stream",
     "text": [
      "The Actual AQI :  58.16\n",
      "The predicted AQI :  63.19973527705219\n",
      "The accuracy of the prediction:  99.22085675760964\n",
      "RMSE:  5.039735277052195\n"
     ]
    }
   ],
   "source": [
    "actual1,predicted1,acc1,rmse1 = Random_Forest_predict()\n",
    "#Predicted values,Accuracy,and rmse\n",
    "print(\"The Actual AQI : \",actual)\n",
    "print(\"The predicted AQI : \",predicted)\n",
    "print(\"The accuracy of the prediction: \",acc1)\n",
    "print(\"RMSE: \",rmse)"
   ]
  },
  {
   "cell_type": "code",
   "execution_count": 58,
   "metadata": {},
   "outputs": [],
   "source": [
    "def return_large():\n",
    "    if(acc1>acc):\n",
    "        return [predicted1,acc1,rmse1]\n",
    "    else:\n",
    "        return [predicted,acc,rmse]"
   ]
  },
  {
   "cell_type": "code",
   "execution_count": 59,
   "metadata": {},
   "outputs": [
    {
     "name": "stdout",
     "output_type": "stream",
     "text": [
      "[63.19973527705219, 99.22085675760964, 5.039735277052195]\n"
     ]
    }
   ],
   "source": [
    "result = return_large()\n",
    "print(result)"
   ]
  },
  {
   "cell_type": "code",
   "execution_count": 60,
   "metadata": {},
   "outputs": [],
   "source": [
    "file = open('model.pkl','wb')\n",
    "pickle.dump(result, file)\n",
    "file.close()"
   ]
  },
  {
   "cell_type": "code",
   "execution_count": null,
   "metadata": {},
   "outputs": [],
   "source": []
  },
  {
   "cell_type": "code",
   "execution_count": 57,
   "metadata": {},
   "outputs": [],
   "source": []
  },
  {
   "cell_type": "code",
   "execution_count": null,
   "metadata": {},
   "outputs": [],
   "source": []
  }
 ],
 "metadata": {
  "kernelspec": {
   "display_name": "Python 3",
   "language": "python",
   "name": "python3"
  },
  "language_info": {
   "codemirror_mode": {
    "name": "ipython",
    "version": 3
   },
   "file_extension": ".py",
   "mimetype": "text/x-python",
   "name": "python",
   "nbconvert_exporter": "python",
   "pygments_lexer": "ipython3",
   "version": "3.6.9"
  }
 },
 "nbformat": 4,
 "nbformat_minor": 2
}
